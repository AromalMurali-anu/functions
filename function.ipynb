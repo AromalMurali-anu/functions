{
 "cells": [
  {
   "cell_type": "code",
   "execution_count": 6,
   "id": "f956cf19-ddb9-4437-a4ae-1d38dbf037eb",
   "metadata": {},
   "outputs": [],
   "source": [
    "#creating a function with arguments\n",
    "def greet(name):\n",
    "    print(f\"hello,{name} how are doing\")"
   ]
  },
  {
   "cell_type": "code",
   "execution_count": 3,
   "id": "1bb6ed22-108a-4f93-ac76-30d082cca9e2",
   "metadata": {},
   "outputs": [
    {
     "name": "stdout",
     "output_type": "stream",
     "text": [
      "hello,anamika\n"
     ]
    }
   ],
   "source": [
    "greet(\"anamika\")"
   ]
  },
  {
   "cell_type": "code",
   "execution_count": 7,
   "id": "cf0985fb-18c7-4b3b-86fc-383dc309e322",
   "metadata": {},
   "outputs": [
    {
     "name": "stdout",
     "output_type": "stream",
     "text": [
      "hello,anu how are doing\n"
     ]
    }
   ],
   "source": [
    "greet(\"anu\")"
   ]
  },
  {
   "cell_type": "code",
   "execution_count": 8,
   "id": "cd7fe11d-ab75-4653-b00f-2809a0308537",
   "metadata": {},
   "outputs": [],
   "source": [
    "#addition\n",
    "def add(a,b):\n",
    "    return a+b"
   ]
  },
  {
   "cell_type": "code",
   "execution_count": 9,
   "id": "ca9882d0-f04b-4342-86b8-d992838a391a",
   "metadata": {},
   "outputs": [
    {
     "data": {
      "text/plain": [
       "15"
      ]
     },
     "execution_count": 9,
     "metadata": {},
     "output_type": "execute_result"
    }
   ],
   "source": [
    "add(5,10)"
   ]
  },
  {
   "cell_type": "code",
   "execution_count": 10,
   "id": "c8f9631b-589f-434e-acd1-0cf53619d8cc",
   "metadata": {},
   "outputs": [],
   "source": [
    "#substations\n",
    "def sub(a,d):\n",
    "    return a-d"
   ]
  },
  {
   "cell_type": "code",
   "execution_count": 11,
   "id": "e3517322-3479-40de-8e7b-7c2cb158b2ed",
   "metadata": {},
   "outputs": [
    {
     "data": {
      "text/plain": [
       "17"
      ]
     },
     "execution_count": 11,
     "metadata": {},
     "output_type": "execute_result"
    }
   ],
   "source": [
    "sub(25,8)"
   ]
  },
  {
   "cell_type": "code",
   "execution_count": 16,
   "id": "d0264e8c-2a48-4d4f-84a5-8b53678c6667",
   "metadata": {},
   "outputs": [],
   "source": [
    "#multiplication\n",
    "def mul(s,f):\n",
    "    return s*f"
   ]
  },
  {
   "cell_type": "code",
   "execution_count": 18,
   "id": "8e3c9402-d4f0-4535-867a-99caee16dc72",
   "metadata": {},
   "outputs": [
    {
     "data": {
      "text/plain": [
       "1260"
      ]
     },
     "execution_count": 18,
     "metadata": {},
     "output_type": "execute_result"
    }
   ],
   "source": [
    "mul(28,45)"
   ]
  },
  {
   "cell_type": "code",
   "execution_count": 19,
   "id": "af5ffee8-fbcb-4a4c-a93a-050c08f7be2c",
   "metadata": {},
   "outputs": [],
   "source": [
    "#division\n",
    "def div(a,b):\n",
    "    return a/b"
   ]
  },
  {
   "cell_type": "code",
   "execution_count": 20,
   "id": "5d63c38a-0bb1-4e69-be5a-37868ae293f0",
   "metadata": {},
   "outputs": [
    {
     "data": {
      "text/plain": [
       "0.4"
      ]
     },
     "execution_count": 20,
     "metadata": {},
     "output_type": "execute_result"
    }
   ],
   "source": [
    "div(2,5)"
   ]
  },
  {
   "cell_type": "code",
   "execution_count": 21,
   "id": "58fd9248-6c3c-4cf0-b146-058986421851",
   "metadata": {},
   "outputs": [],
   "source": [
    "def mod(a,s):\n",
    "    return a%s"
   ]
  },
  {
   "cell_type": "code",
   "execution_count": 22,
   "id": "1e4bfc38-1449-45af-8824-86c644c5d2c9",
   "metadata": {},
   "outputs": [
    {
     "data": {
      "text/plain": [
       "0"
      ]
     },
     "execution_count": 22,
     "metadata": {},
     "output_type": "execute_result"
    }
   ],
   "source": [
    "#modulus\n",
    "mod(3000,5)"
   ]
  },
  {
   "cell_type": "code",
   "execution_count": 27,
   "id": "afd03ef9-f854-481f-b680-cd7e5f002b9a",
   "metadata": {},
   "outputs": [],
   "source": [
    "#nested function\n",
    "def calcultor():\n",
    "    def add(a,b):\n",
    "        return a+b\n",
    "    def sub(a,b):\n",
    "        return a-b\n",
    "    def mul(a,b):\n",
    "        return a*b\n",
    "    def div(a,b):\n",
    "        return a/b\n",
    "    def mod(a,b):\n",
    "        return a%b\n",
    "\n",
    "    operation={'1':add,'2':sub,'3':mul,'4':div,'5':mod}\n",
    "    print(\"select the operations(1-5)\")\n",
    "    choice=input(\"enter your choice\")\n",
    "    num1=int(input(\"enter a first number\"))\n",
    "    num2=int(input(\"enter a second number\"))\n",
    "    operation=operation. get(choice)\n",
    "    if operation:\n",
    "        result=operation(num1,num2)\n",
    "        print(f\"the result is{result}\")\n",
    "    else:\n",
    "        print(\"invalid input\")"
   ]
  },
  {
   "cell_type": "code",
   "execution_count": 28,
   "id": "d5e4919d-bd67-41e6-b4ec-ab294b5ea2a0",
   "metadata": {},
   "outputs": [
    {
     "name": "stdout",
     "output_type": "stream",
     "text": [
      "select the operations(1-5)\n"
     ]
    },
    {
     "name": "stdin",
     "output_type": "stream",
     "text": [
      "enter your choice 3\n",
      "enter a first number 3\n",
      "enter a second number 3\n"
     ]
    },
    {
     "name": "stdout",
     "output_type": "stream",
     "text": [
      "the result is9\n"
     ]
    }
   ],
   "source": [
    "calcultor()"
   ]
  },
  {
   "cell_type": "code",
   "execution_count": 6,
   "id": "eeeb6002-2d61-4907-98f8-c27cefa9c83b",
   "metadata": {},
   "outputs": [],
   "source": [
    "#global\n",
    "x=10\n",
    "def scope():\n",
    "    y=5      #local\n",
    "    print(y)\n"
   ]
  },
  {
   "cell_type": "code",
   "execution_count": 9,
   "id": "3d9b4b73-2ece-42c7-b52f-d9719d32f6e7",
   "metadata": {},
   "outputs": [
    {
     "name": "stdout",
     "output_type": "stream",
     "text": [
      "5\n"
     ]
    }
   ],
   "source": [
    "scope()"
   ]
  },
  {
   "cell_type": "code",
   "execution_count": null,
   "id": "1193c47c-9d06-4d28-b16e-020419577c51",
   "metadata": {},
   "outputs": [],
   "source": [
    "#question"
   ]
  },
  {
   "cell_type": "markdown",
   "id": "daeb541a-9d4e-49b2-a847-0944caa9198d",
   "metadata": {},
   "source": [
    "1 write a function is_even(n) that rutern if the number is enen or return odd if the number is odd"
   ]
  },
  {
   "cell_type": "code",
   "execution_count": 11,
   "id": "de9477f3-7a62-4ff1-b1e5-5c2e7385fd3c",
   "metadata": {},
   "outputs": [],
   "source": [
    "def is_even(n):\n",
    "    if n %2==0:\n",
    "        return \"even\"\n",
    "    else:\n",
    "        return \"odd\""
   ]
  },
  {
   "cell_type": "code",
   "execution_count": 12,
   "id": "347dd601-5560-4707-a2bb-cd7203ddeddb",
   "metadata": {},
   "outputs": [
    {
     "data": {
      "text/plain": [
       "'even'"
      ]
     },
     "execution_count": 12,
     "metadata": {},
     "output_type": "execute_result"
    }
   ],
   "source": [
    "is_even(34)"
   ]
  },
  {
   "cell_type": "code",
   "execution_count": 14,
   "id": "da1674c0-1366-487a-ac57-50d4ec89bf39",
   "metadata": {},
   "outputs": [],
   "source": [
    "#write a function is_prime(n) that return true if the number is prime else fules\n",
    "def is_prime(n):\n",
    "    if n<=1:\n",
    "        return False\n",
    "    for i in range(2,int(n**0.5)+1):\n",
    "        if n%i==0:\n",
    "            return False\n",
    "        return True\n",
    "    \n",
    "    \n",
    "    "
   ]
  },
  {
   "cell_type": "code",
   "execution_count": null,
   "id": "fcfde5ce-dd53-496b-897d-1bfe0e3e16fd",
   "metadata": {},
   "outputs": [],
   "source": [
    "count=0\n",
    "i=1\n",
    "while i<=10:\n",
    "    count+=i\n",
    "    i+=1\n",
    "print(count)"
   ]
  },
  {
   "cell_type": "code",
   "execution_count": 34,
   "id": "a6e0b9a7-dcf2-4a76-9a80-e4b26cebaf32",
   "metadata": {},
   "outputs": [
    {
     "name": "stdout",
     "output_type": "stream",
     "text": [
      "2\n",
      "3\n",
      "5\n",
      "7\n"
     ]
    }
   ],
   "source": [
    "#write a python programe to display the first ten prime numbers\n",
    "def is_prime(n):\n",
    "    if n<=1:\n",
    "        return False\n",
    "    for i in range(2,int(n**0.5)+1):\n",
    "        if n%i==0:\n",
    "            return False\n",
    "    return True\n",
    "\n",
    "count=0\n",
    "n=2\n",
    "while n<=10:\n",
    "    if is_prime(n):\n",
    "        print(n)\n",
    "        count += 1\n",
    "    n += 1\n",
    "\n"
   ]
  },
  {
   "cell_type": "code",
   "execution_count": 35,
   "id": "832f6e8a-fbb6-4e60-bca3-34a821bd168a",
   "metadata": {},
   "outputs": [],
   "source": [
    "add=lambda a,b:a+b"
   ]
  },
  {
   "cell_type": "code",
   "execution_count": 37,
   "id": "61d4bbf1-244d-4bfd-8ef3-3145f71ae01f",
   "metadata": {},
   "outputs": [
    {
     "data": {
      "text/plain": [
       "9"
      ]
     },
     "execution_count": 37,
     "metadata": {},
     "output_type": "execute_result"
    }
   ],
   "source": [
    "add(5,4)"
   ]
  },
  {
   "cell_type": "code",
   "execution_count": 44,
   "id": "f6b0ba4b-393f-4a34-b50c-8d9694573811",
   "metadata": {},
   "outputs": [],
   "source": [
    "square=lambda x:x*x"
   ]
  },
  {
   "cell_type": "code",
   "execution_count": 45,
   "id": "b5270dc3-9504-4fcd-b303-d5c96526d1e9",
   "metadata": {},
   "outputs": [
    {
     "data": {
      "text/plain": [
       "9"
      ]
     },
     "execution_count": 45,
     "metadata": {},
     "output_type": "execute_result"
    }
   ],
   "source": [
    "square(3)"
   ]
  },
  {
   "cell_type": "code",
   "execution_count": 41,
   "id": "f0b79fcd-d412-48d1-b643-8863faa07fed",
   "metadata": {},
   "outputs": [],
   "source": [
    "n=[1,2,3,4,5,6,7,8,9,10]"
   ]
  },
  {
   "cell_type": "code",
   "execution_count": 42,
   "id": "9e6f8849-e4c3-4b89-b562-7e4b928fb049",
   "metadata": {},
   "outputs": [
    {
     "data": {
      "text/plain": [
       "[1, 2, 3, 4, 5, 6, 7, 8, 9, 10]"
      ]
     },
     "execution_count": 42,
     "metadata": {},
     "output_type": "execute_result"
    }
   ],
   "source": [
    "n"
   ]
  },
  {
   "cell_type": "code",
   "execution_count": 46,
   "id": "ad0c1d83-5efc-40a7-94af-7b2d204b9805",
   "metadata": {},
   "outputs": [],
   "source": [
    "square=[x**2 for x in range(1,6)]"
   ]
  },
  {
   "cell_type": "code",
   "execution_count": 47,
   "id": "10405621-b679-4a67-9f2b-517b6a62ee6a",
   "metadata": {},
   "outputs": [
    {
     "data": {
      "text/plain": [
       "[1, 4, 9, 16, 25]"
      ]
     },
     "execution_count": 47,
     "metadata": {},
     "output_type": "execute_result"
    }
   ],
   "source": [
    "square"
   ]
  },
  {
   "cell_type": "code",
   "execution_count": null,
   "id": "e50f1741-58ba-4588-a506-85b85e45687e",
   "metadata": {},
   "outputs": [],
   "source": []
  }
 ],
 "metadata": {
  "kernelspec": {
   "display_name": "Python [conda env:base] *",
   "language": "python",
   "name": "conda-base-py"
  },
  "language_info": {
   "codemirror_mode": {
    "name": "ipython",
    "version": 3
   },
   "file_extension": ".py",
   "mimetype": "text/x-python",
   "name": "python",
   "nbconvert_exporter": "python",
   "pygments_lexer": "ipython3",
   "version": "3.13.5"
  }
 },
 "nbformat": 4,
 "nbformat_minor": 5
}
